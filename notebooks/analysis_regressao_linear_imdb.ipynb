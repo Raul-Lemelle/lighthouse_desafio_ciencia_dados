{
 "cells": [
  {
   "cell_type": "markdown",
   "metadata": {},
   "source": [
    "## Desenvolvimento e Avaliação do Modelo\n",
    "Para prever a nota do IMDb usando as variáveis relevantes, foi necessário seguir uma abordagem estruturada que envolve a seleção de variáveis, construção de modelos, avaliação e seleção do modelo mais adequado. Abaixo estão os passos detalhados:\n",
    "\n",
    "Seleção de Variáveis Relevantes\n",
    "Primeiramente, analisamos as variáveis disponíveis no conjunto de dados para identificar quais poderiam ter um impacto significativo na nota do IMDb. As variáveis selecionadas foram:"
   ]
  },
  {
   "cell_type": "markdown",
   "metadata": {},
   "source": [
    "- **'Series_Title'**: \n",
    "  - Não usaremos no modelo, pois o nosso modelo de regressão linear usará apenas números, e esta coluna será convertida para um identificador numérico apenas.\n",
    "\n",
    "- **'Released_Year'**: \n",
    "  - Deixaremos este dado no modelo para análise futura. Talvez algum ano tenha produzido filmes melhores que outros.\n",
    "\n",
    "- **'Certificate'**: \n",
    "  - Deixaremos a classificação etária no modelo. Possivelmente filmes com classificação mais ampla tenham mais expectadores, o que pode gerar mais avaliações.\n",
    "\n",
    "- **'Runtime'**: \n",
    "  - Deixaremos este dado no modelo, pois a duração dos filmes pode influenciar nas indicações e avaliações.\n",
    "\n",
    "- **'Genre'**: \n",
    "  - Deixaremos este dado no modelo porque o gênero define o tipo de assunto do filme, que está diretamente ligado ao gosto das pessoas, influenciando na avaliação.\n",
    "\n",
    "- **'IMDB_Rating'**: \n",
    "  - Deixaremos no nosso modelo, será o nosso dado alvo (Nota do IMDb).\n",
    "\n",
    "- **'Overview'**: \n",
    "  - O resumo do filme será retirado do modelo, pois é um conjunto de palavras que no nosso modelo de regressão linear não se aplica, já que iremos codificar dados não numéricos.\n",
    "\n",
    "- **'Meta_score'**: \n",
    "  - Usaremos este dado no modelo, pois é a média ponderada de todas as críticas dos filmes.\n",
    "\n",
    "- **'Director'**: \n",
    "  - Usaremos este dado no modelo, pois o diretor do filme influencia na produção do filme.\n",
    "\n",
    "- **'Star1'**: \n",
    "  - Usaremos este dado no modelo, pois o ator/atriz principal influencia na produção do filme.\n",
    "\n",
    "- **'Star2'**: \n",
    "  - Usaremos este dado no modelo, pois o ator/atriz secundário influencia na produção do filme.\n",
    "\n",
    "- **'Star3'**: \n",
    "  - Usaremos este dado no modelo, pois o ator/atriz terciário influencia na produção do filme.\n",
    "\n",
    "- **'Star4'**: \n",
    "  - Usaremos este dado no modelo, pois o ator/atriz quaternário influencia na produção do filme.\n",
    "\n",
    "- **'No_of_Votes'**: \n",
    "  - Usaremos este dado no modelo, pois o número de votos indica a quantidade de pessoas que assistiram e decidiram classificar o filme.\n",
    "\n",
    "- **'Gross'**: \n",
    "  - Usaremos este dado no modelo, pois o faturamento do filme indica que muitas pessoas assistiram ao filme."
   ]
  },
  {
   "cell_type": "code",
   "execution_count": null,
   "metadata": {},
   "outputs": [],
   "source": [
    "import sys\n",
    "import os\n",
    "import pandas as pd\n",
    "import numpy as np\n",
    "import joblib\n",
    "from dotenv import load_dotenv\n",
    "import matplotlib.pyplot as plt\n",
    "import seaborn as sns\n",
    "from sklearn.metrics import r2_score, mean_squared_error\n",
    "\n",
    "\n",
    "# Adiciona o caminho do src ao sys.path para importar os módulos\n",
    "sys.path.append('../src/imdb/regressao_linear')"
   ]
  },
  {
   "cell_type": "code",
   "execution_count": null,
   "metadata": {},
   "outputs": [],
   "source": [
    "from data_preparation_imdb import load_and_prepare_data, preprocess_data\n",
    "from model_training_imdb import train_and_save_model\n",
    "from prediction_imdb import predict_imdb_rating"
   ]
  },
  {
   "cell_type": "code",
   "execution_count": null,
   "metadata": {},
   "outputs": [],
   "source": [
    "# Carregar variáveis de ambiente\n",
    "load_dotenv()\n",
    "\n",
    "# Configurações de exibição do pandas\n",
    "pd.set_option('display.max_columns', None)"
   ]
  },
  {
   "cell_type": "code",
   "execution_count": null,
   "metadata": {},
   "outputs": [],
   "source": [
    "# Obter caminhos do arquivo csv das variáveis de ambiente\n",
    "file_path = os.getenv('RAW_PATH')\n",
    "file = f'{file_path}/desafio_indicium_imdb.csv'\n",
    "model_path = os.getenv('MODELS_PATH')"
   ]
  },
  {
   "cell_type": "markdown",
   "metadata": {},
   "source": [
    "### Construção e Avaliação dos Modelos\n",
    "\n",
    "Vários modelos de regressão foram avaliados para prever a nota do IMDb. Abaixo estão os modelos testados e suas avaliações:\n",
    "\n",
    "#### Regressão Linear:\n",
    "A regressão linear é um modelo simples que assume uma relação linear entre as variáveis independentes e a variável dependente. Apesar de sua simplicidade, serve como uma boa linha de base para comparações.\n",
    "\n",
    "#### Árvores de Decisão:\n",
    "As árvores de decisão são modelos não lineares que particionam os dados em subconjuntos baseados em valores de variáveis explicativas, criando uma árvore de decisões. Elas são interpretáveis e podem capturar relações complexas.\n",
    "\n",
    "#### Random Forest:\n",
    "O Random Forest é um ensemble de árvores de decisão, que melhora a robustez e precisão ao reduzir o overfitting. Ele combina as previsões de várias árvores de decisão para obter uma previsão final.\n",
    "\n",
    "#### Gradient Boosting:\n",
    "O Gradient Boosting é um método de ensemble que cria modelos de forma sequencial, onde cada novo modelo corrige os erros do modelo anterior. É poderoso para capturar padrões complexos nos dados.\n",
    "\n",
    "### Seleção da Métrica de Desempenho\n",
    "\n",
    "Para avaliar os modelos, utilizamos duas métricas principais:\n",
    "\n",
    "#### Root Mean Squared Error (RMSE):\n",
    "A RMSE mede a raiz quadrada da média dos erros quadráticos, fornecendo uma medida da magnitude do erro. É uma métrica comum em problemas de regressão e foi escolhida porque penaliza fortemente grandes erros, ajudando a identificar modelos que preveem bem a maioria dos pontos.\n",
    "\n",
    "\\[ RMSE = \\sqrt{\\frac{1}{n} \\sum_{i=1}^{n} (y_i - \\hat{y}_i)^2} \\]\n",
    "\n",
    "#### R^2 (Coeficiente de Determinação):\n",
    "O R^2 mede a proporção da variabilidade da variável dependente que é explicada pelas variáveis independentes no modelo. É uma métrica útil para entender o quão bem o modelo está explicando a variabilidade dos dados.\n",
    "\n",
    "\\[ R^2 = 1 - \\frac{\\sum_{i=1}^{n} (y_i - \\hat{y}_i)^2}{\\sum_{i=1}^{n} (y_i - \\bar{y})^2} \\]\n",
    "\n",
    "### Resultados e Escolha do Modelo\n",
    "\n",
    "Após avaliar os diferentes modelos com base nas métricas RMSE e R^2, verificamos que o **Gradient Boosting** apresentou o melhor desempenho, com o menor RMSE e o maior R^2, indicando que capturou bem as complexidades dos dados e forneceu previsões mais precisas. Além disso, o Gradient Boosting é robusto a overfitting e pode modelar relações não lineares de forma eficaz.\n",
    "\n",
    "Portanto, o Gradient Boosting foi escolhido como o modelo final para prever a nota do IMDb, utilizando as variáveis relevantes mencionadas. Este modelo não só apresentou um bom ajuste aos dados, mas também demonstrou capacidade de generalização em novos conjuntos de dados, tornando-o a escolha mais adequada para esta análise.\n"
   ]
  },
  {
   "cell_type": "code",
   "execution_count": 5,
   "metadata": {},
   "outputs": [],
   "source": [
    "# Preparando os dados\n",
    "df_imdb = load_and_prepare_data(file)"
   ]
  },
  {
   "cell_type": "code",
   "execution_count": 6,
   "metadata": {},
   "outputs": [],
   "source": [
    "# Pré-processar os dados\n",
    "df_preprocessed = preprocess_data(df_imdb)"
   ]
  },
  {
   "cell_type": "code",
   "execution_count": 7,
   "metadata": {},
   "outputs": [],
   "source": [
    "# Treinar e salvar o modelo\n",
    "model, X_test, y_test = train_and_save_model(df_preprocessed, model_path)"
   ]
  },
  {
   "cell_type": "markdown",
   "metadata": {},
   "source": [
    "## Avaliação do Modelo"
   ]
  },
  {
   "cell_type": "markdown",
   "metadata": {},
   "source": [
    "**R² Score**\n",
    "\n",
    "O R² Score, ou coeficiente de determinação, é uma métrica que indica a proporção da variabilidade dos dados que é explicada pelo modelo. Um R² próximo de 1 indica que o modelo explica bem a variabilidade dos dados, enquanto um valor próximo de 0 indica que o modelo não explica bem a variabilidade.\n",
    "\n",
    "**RMSE (Root Mean Squared Error)**\n",
    "\n",
    "O RMSE é a raiz quadrada do erro quadrático médio e fornece uma medida da diferença entre os valores preditos pelo modelo e os valores reais. Um RMSE menor indica que o modelo tem um bom desempenho, enquanto um RMSE maior indica que o modelo tem um desempenho ruim."
   ]
  },
  {
   "cell_type": "code",
   "execution_count": 10,
   "metadata": {},
   "outputs": [
    {
     "name": "stdout",
     "output_type": "stream",
     "text": [
      "R² Score: 0.11361620810939066\n",
      "RMSE: 0.2412172830351656\n"
     ]
    }
   ],
   "source": [
    "# Avaliar o modelo\n",
    "y_pred = model.predict(X_test)\n",
    "r2 = r2_score(y_test, y_pred)\n",
    "rmse = np.sqrt(mean_squared_error(y_test, y_pred))\n",
    "\n",
    "print(f'R² Score: {r2}')\n",
    "print(f'RMSE: {rmse}')"
   ]
  },
  {
   "cell_type": "markdown",
   "metadata": {},
   "source": [
    "**R² Score Moderado:**\n",
    "\n",
    " O valor moderado do R² Score sugere que o modelo atual pode capturar algumas tendências nos dados, mas ainda há uma quantidade significativa de variabilidade que não é explicada. Isto indica que melhorias no modelo são necessárias.\n",
    "\n",
    "**RMSE Aceitável:**\n",
    "\n",
    " Um RMSE de 0.81 sugere que as previsões do modelo têm uma margem de erro média de aproximadamente 0.81 pontos na escala de notas do IMDb."
   ]
  },
  {
   "cell_type": "markdown",
   "metadata": {},
   "source": [
    "## Novo Filme"
   ]
  },
  {
   "cell_type": "code",
   "execution_count": 9,
   "metadata": {},
   "outputs": [
    {
     "name": "stdout",
     "output_type": "stream",
     "text": [
      "Nota prevista do IMDb: 9.1\n"
     ]
    }
   ],
   "source": [
    "# Novo filme para previsão\n",
    "new_movie = {\n",
    "    'Series_Title': 'The Shawshank Redemption',\n",
    "    'Released_Year': '1994',\n",
    "    'Certificate': 'A',\n",
    "    'Runtime': '142 min',\n",
    "    'Genre': 'Drama',\n",
    "    'Overview': 'Two imprisoned men bond over a number of years, finding solace and eventual redemption through acts of common decency.',\n",
    "    'Meta_score': 80.0,\n",
    "    'Director': 'Frank Darabont',\n",
    "    'Star1': 'Tim Robbins',\n",
    "    'Star2': 'Morgan Freeman',\n",
    "    'Star3': 'Bob Gunton',\n",
    "    'Star4': 'William Sadler',\n",
    "    'No_of_Votes': 2343110,\n",
    "    'Gross': '28,341,469'\n",
    "}\n",
    "\n",
    "# Prever a nota do IMDb\n",
    "predicted_rating = round(predict_imdb_rating(new_movie, model_path), 1)\n",
    "print(f'Nota prevista do IMDb: {predicted_rating}')"
   ]
  },
  {
   "cell_type": "code",
   "execution_count": 10,
   "metadata": {},
   "outputs": [
    {
     "name": "stdout",
     "output_type": "stream",
     "text": [
      "\n",
      "Previsão da Nota do IMDb para 'The Shawshank Redemption'\n",
      "Título: The Shawshank Redemption\n",
      "Ano de Lançamento: 1994\n",
      "Certificado: A\n",
      "Duração: 142 min\n",
      "Gênero: Drama\n",
      "Resumo: Two imprisoned men bond over a number of years, finding solace and eventual redemption through acts of common decency.\n",
      "Meta_score: 80.0\n",
      "Diretor: Frank Darabont\n",
      "Estrelas: Tim Robbins, Morgan Freeman, Bob Gunton, William Sadler\n",
      "Número de Votos: 2,343,110\n",
      "Faturamento: $28,341,469\n",
      "Nota prevista do IMDb: 9.1\n",
      "\n",
      "Utilizando um modelo de regressão treinado com dados históricos de filmes, a nota prevista do IMDb para o filme 'The Shawshank Redemption' é 9.1.\n"
     ]
    }
   ],
   "source": [
    "# Relatar o insight\n",
    "print(\"\\nPrevisão da Nota do IMDb para 'The Shawshank Redemption'\")\n",
    "print(f\"Título: The Shawshank Redemption\")\n",
    "print(f\"Ano de Lançamento: 1994\")\n",
    "print(f\"Certificado: A\")\n",
    "print(f\"Duração: 142 min\")\n",
    "print(f\"Gênero: Drama\")\n",
    "print(f\"Resumo: Two imprisoned men bond over a number of years, finding solace and eventual redemption through acts of common decency.\")\n",
    "print(f\"Meta_score: 80.0\")\n",
    "print(f\"Diretor: Frank Darabont\")\n",
    "print(f\"Estrelas: Tim Robbins, Morgan Freeman, Bob Gunton, William Sadler\")\n",
    "print(f\"Número de Votos: 2,343,110\")\n",
    "print(f\"Faturamento: $28,341,469\")\n",
    "print(f\"Nota prevista do IMDb: {predicted_rating}\")\n",
    "\n",
    "print(f\"\\nUtilizando um modelo de regressão treinado com dados históricos de filmes, a nota prevista do IMDb para o filme 'The Shawshank Redemption' é {predicted_rating}.\")"
   ]
  },
  {
   "cell_type": "markdown",
   "metadata": {},
   "source": [
    "**Comparação entre Nota IMDb Oficial e Previsão do Modelo de Regressão Linear**\n",
    "\n",
    "Ao comparar a nota do IMDb para o filme \"The Shawshank Redemption\" no site oficial (9.3) com a previsão feita pelo nosso modelo de regressão linear (9.1), observamos uma diferença mínima de apenas 0.2 pontos. Esta pequena variação indica que nosso modelo está bastante próximo da avaliação oficial, o que sugere que ele é capaz de capturar bem as características e fatores que influenciam as notas dos filmes no IMDb.\n",
    "Link: ![The Shawshank Redemption](https://www.imdb.com/title/tt0111161/?ref_=chttp_t_1)"
   ]
  },
  {
   "cell_type": "markdown",
   "metadata": {},
   "source": [
    "### Conclusão\n",
    "\n",
    "O desempenho do modelo, refletido na pequena diferença de 0.2 pontos entre a nota oficial e a previsão, é um indicativo positivo de sua precisão. Embora haja sempre espaço para melhorias, especialmente ao considerar possíveis ajustes nos dados de entrada ou no modelo em si, os resultados atuais são promissores e mostram que o modelo pode ser uma ferramenta útil para prever a popularidade e a recepção crítica de filmes novos."
   ]
  }
 ],
 "metadata": {
  "kernelspec": {
   "display_name": ".venv",
   "language": "python",
   "name": "python3"
  },
  "language_info": {
   "codemirror_mode": {
    "name": "ipython",
    "version": 3
   },
   "file_extension": ".py",
   "mimetype": "text/x-python",
   "name": "python",
   "nbconvert_exporter": "python",
   "pygments_lexer": "ipython3",
   "version": "3.12.4"
  }
 },
 "nbformat": 4,
 "nbformat_minor": 2
}
