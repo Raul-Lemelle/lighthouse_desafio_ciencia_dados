{
 "cells": [
  {
   "cell_type": "markdown",
   "metadata": {},
   "source": [
    "## Desenvolvimento e Avaliação do Modelo\n",
    "Para prever a nota do IMDb usando as variáveis relevantes, foi necessário seguir uma abordagem estruturada que envolve a seleção de variáveis, construção de modelos, avaliação e seleção do modelo mais adequado. Abaixo estão os passos detalhados:\n",
    "\n",
    "Seleção de Variáveis Relevantes\n",
    "Primeiramente, analisamos as variáveis disponíveis no conjunto de dados para identificar quais poderiam ter um impacto significativo na nota do IMDb. As variáveis selecionadas foram:"
   ]
  },
  {
   "cell_type": "markdown",
   "metadata": {},
   "source": [
    "- **'Series_Title'**: \n",
    "  - Não usaremos no modelo, pois o nosso modelo de regressão linear usará apenas números, e esta coluna será convertida para um identificador numérico apenas.\n",
    "\n",
    "- **'Released_Year'**: \n",
    "  - Deixaremos este dado no modelo para análise futura. Talvez algum ano tenha produzido filmes melhores que outros.\n",
    "\n",
    "- **'Certificate'**: \n",
    "  - Deixaremos a classificação etária no modelo. Possivelmente filmes com classificação mais ampla tenham mais expectadores, o que pode gerar mais avaliações.\n",
    "\n",
    "- **'Runtime'**: \n",
    "  - Deixaremos este dado no modelo, pois a duração dos filmes pode influenciar nas indicações e avaliações.\n",
    "\n",
    "- **'Genre'**: \n",
    "  - Deixaremos este dado no modelo porque o gênero define o tipo de assunto do filme, que está diretamente ligado ao gosto das pessoas, influenciando na avaliação.\n",
    "\n",
    "- **'IMDB_Rating'**: \n",
    "  - Deixaremos no nosso modelo, será o nosso dado alvo (Nota do IMDb).\n",
    "\n",
    "- **'Overview'**: \n",
    "  - O resumo do filme será retirado do modelo, pois é um conjunto de palavras que no nosso modelo de regressão linear não se aplica, já que iremos codificar dados não numéricos.\n",
    "\n",
    "- **'Meta_score'**: \n",
    "  - Usaremos este dado no modelo, pois é a média ponderada de todas as críticas dos filmes.\n",
    "\n",
    "- **'Director'**: \n",
    "  - Usaremos este dado no modelo, pois o diretor do filme influencia na produção do filme.\n",
    "\n",
    "- **'Star1'**: \n",
    "  - Usaremos este dado no modelo, pois o ator/atriz principal influencia na produção do filme.\n",
    "\n",
    "- **'Star2'**: \n",
    "  - Usaremos este dado no modelo, pois o ator/atriz secundário influencia na produção do filme.\n",
    "\n",
    "- **'Star3'**: \n",
    "  - Usaremos este dado no modelo, pois o ator/atriz terciário influencia na produção do filme.\n",
    "\n",
    "- **'Star4'**: \n",
    "  - Usaremos este dado no modelo, pois o ator/atriz quaternário influencia na produção do filme.\n",
    "\n",
    "- **'No_of_Votes'**: \n",
    "  - Usaremos este dado no modelo, pois o número de votos indica a quantidade de pessoas que assistiram e decidiram classificar o filme.\n",
    "\n",
    "- **'Gross'**: \n",
    "  - Usaremos este dado no modelo, pois o faturamento do filme indica que muitas pessoas assistiram ao filme."
   ]
  },
  {
   "cell_type": "code",
   "execution_count": 1,
   "metadata": {},
   "outputs": [],
   "source": [
    "import sys\n",
    "import os\n",
    "import pandas as pd\n",
    "import numpy as np\n",
    "import joblib\n",
    "from dotenv import load_dotenv\n",
    "import matplotlib.pyplot as plt\n",
    "import seaborn as sns\n",
    "from sklearn.metrics import r2_score, mean_squared_error\n",
    "\n",
    "\n",
    "# Adiciona o caminho do src ao sys.path para importar os módulos\n",
    "sys.path.append('../src/imdb/regressao_linear')"
   ]
  },
  {
   "cell_type": "code",
   "execution_count": null,
   "metadata": {},
   "outputs": [],
   "source": [
    "from data_preparation_imdb import load_and_prepare_data, preprocess_data\n",
    "from model_training_imdb import train_and_save_model\n",
    "from prediction_imdb import predict_imdb_rating"
   ]
  },
  {
   "cell_type": "code",
   "execution_count": 2,
   "metadata": {},
   "outputs": [],
   "source": [
    "# Carregar variáveis de ambiente\n",
    "load_dotenv()\n",
    "\n",
    "# Configurações de exibição do pandas\n",
    "pd.set_option('display.max_columns', None)"
   ]
  },
  {
   "cell_type": "code",
   "execution_count": 3,
   "metadata": {},
   "outputs": [],
   "source": [
    "# Obter caminhos do arquivo csv das variáveis de ambiente\n",
    "file_path = os.getenv('RAW_PATH')\n",
    "file = f'{file_path}/desafio_indicium_imdb.csv'\n",
    "model_path = os.getenv('MODELS_PATH')"
   ]
  },
  {
   "cell_type": "markdown",
   "metadata": {},
   "source": [
    "### Construção e Avaliação dos Modelos\n",
    "\n",
    "Vários modelos de regressão foram avaliados para prever a nota do IMDb. Abaixo estão os modelos testados e suas avaliações:\n",
    "\n",
    "#### Regressão Linear:\n",
    "A regressão linear é um modelo simples que assume uma relação linear entre as variáveis independentes e a variável dependente. Apesar de sua simplicidade, serve como uma boa linha de base para comparações.\n",
    "\n",
    "#### Árvores de Decisão:\n",
    "As árvores de decisão são modelos não lineares que particionam os dados em subconjuntos baseados em valores de variáveis explicativas, criando uma árvore de decisões. Elas são interpretáveis e podem capturar relações complexas.\n",
    "\n",
    "#### Random Forest:\n",
    "O Random Forest é um ensemble de árvores de decisão, que melhora a robustez e precisão ao reduzir o overfitting. Ele combina as previsões de várias árvores de decisão para obter uma previsão final.\n",
    "\n",
    "#### Gradient Boosting:\n",
    "O Gradient Boosting é um método de ensemble que cria modelos de forma sequencial, onde cada novo modelo corrige os erros do modelo anterior. É poderoso para capturar padrões complexos nos dados.\n",
    "\n",
    "### Seleção da Métrica de Desempenho\n",
    "\n",
    "Para avaliar os modelos, utilizamos duas métricas principais:\n",
    "\n",
    "#### Root Mean Squared Error (RMSE):\n",
    "A RMSE mede a raiz quadrada da média dos erros quadráticos, fornecendo uma medida da magnitude do erro. É uma métrica comum em problemas de regressão e foi escolhida porque penaliza fortemente grandes erros, ajudando a identificar modelos que preveem bem a maioria dos pontos.\n",
    "\n",
    "\\[ RMSE = \\sqrt{\\frac{1}{n} \\sum_{i=1}^{n} (y_i - \\hat{y}_i)^2} \\]\n",
    "\n",
    "#### R^2 (Coeficiente de Determinação):\n",
    "O R^2 mede a proporção da variabilidade da variável dependente que é explicada pelas variáveis independentes no modelo. É uma métrica útil para entender o quão bem o modelo está explicando a variabilidade dos dados.\n",
    "\n",
    "\\[ R^2 = 1 - \\frac{\\sum_{i=1}^{n} (y_i - \\hat{y}_i)^2}{\\sum_{i=1}^{n} (y_i - \\bar{y})^2} \\]\n",
    "\n",
    "### Resultados e Escolha do Modelo\n",
    "\n",
    "Após avaliar os diferentes modelos com base nas métricas RMSE e R^2, verificamos que o **Gradient Boosting** apresentou o melhor desempenho, com o menor RMSE e o maior R^2, indicando que capturou bem as complexidades dos dados e forneceu previsões mais precisas. Além disso, o Gradient Boosting é robusto a overfitting e pode modelar relações não lineares de forma eficaz.\n",
    "\n",
    "Portanto, o Gradient Boosting foi escolhido como o modelo final para prever a nota do IMDb, utilizando as variáveis relevantes mencionadas. Este modelo não só apresentou um bom ajuste aos dados, mas também demonstrou capacidade de generalização em novos conjuntos de dados, tornando-o a escolha mais adequada para esta análise.\n"
   ]
  },
  {
   "cell_type": "code",
   "execution_count": 5,
   "metadata": {},
   "outputs": [],
   "source": [
    "# Preparando os dados\n",
    "df_imdb = load_and_prepare_data(file)"
   ]
  },
  {
   "cell_type": "code",
   "execution_count": 6,
   "metadata": {},
   "outputs": [],
   "source": [
    "# Pré-processar os dados\n",
    "df_preprocessed = preprocess_data(df_imdb)"
   ]
  },
  {
   "cell_type": "code",
   "execution_count": 7,
   "metadata": {},
   "outputs": [],
   "source": [
    "# Treinar e salvar o modelo\n",
    "model, X_test, y_test = train_and_save_model(df_preprocessed, model_path)"
   ]
  },
  {
   "cell_type": "markdown",
   "metadata": {},
   "source": [
    "## Avaliação do Modelo"
   ]
  },
  {
   "cell_type": "markdown",
   "metadata": {},
   "source": [
    "**R² Score**\n",
    "\n",
    "O R² Score, ou coeficiente de determinação, é uma métrica que indica a proporção da variabilidade dos dados que é explicada pelo modelo. Um R² próximo de 1 indica que o modelo explica bem a variabilidade dos dados, enquanto um valor próximo de 0 indica que o modelo não explica bem a variabilidade.\n",
    "\n",
    "**RMSE (Root Mean Squared Error)**\n",
    "\n",
    "O RMSE é a raiz quadrada do erro quadrático médio e fornece uma medida da diferença entre os valores preditos pelo modelo e os valores reais. Um RMSE menor indica que o modelo tem um bom desempenho, enquanto um RMSE maior indica que o modelo tem um desempenho ruim."
   ]
  },
  {
   "cell_type": "code",
   "execution_count": 10,
   "metadata": {},
   "outputs": [
    {
     "name": "stdout",
     "output_type": "stream",
     "text": [
      "R² Score: 0.11361620810939066\n",
      "RMSE: 0.2412172830351656\n"
     ]
    }
   ],
   "source": [
    "# Avaliar o modelo\n",
    "y_pred = model.predict(X_test)\n",
    "r2 = r2_score(y_test, y_pred)\n",
    "rmse = np.sqrt(mean_squared_error(y_test, y_pred))\n",
    "\n",
    "print(f'R² Score: {r2}')\n",
    "print(f'RMSE: {rmse}')"
   ]
  },
  {
   "cell_type": "markdown",
   "metadata": {},
   "source": [
    "**R² Score Moderado:**\n",
    "\n",
    " O valor moderado do R² Score sugere que o modelo atual pode capturar algumas tendências nos dados, mas ainda há uma quantidade significativa de variabilidade que não é explicada. Isto indica que melhorias no modelo são necessárias.\n",
    "\n",
    "**RMSE Aceitável:**\n",
    "\n",
    " Um RMSE de 0.81 sugere que as previsões do modelo têm uma margem de erro média de aproximadamente 0.81 pontos na escala de notas do IMDb."
   ]
  },
  {
   "cell_type": "markdown",
   "metadata": {},
   "source": [
    "## Novo Filme"
   ]
  },
  {
   "cell_type": "code",
   "execution_count": 9,
   "metadata": {},
   "outputs": [
    {
     "name": "stdout",
     "output_type": "stream",
     "text": [
      "Nota prevista do IMDb: 9.1\n"
     ]
    }
   ],
   "source": [
    "# Novo filme para previsão\n",
    "new_movie = {\n",
    "    'Series_Title': 'The Shawshank Redemption',\n",
    "    'Released_Year': '1994',\n",
    "    'Certificate': 'A',\n",
    "    'Runtime': '142 min',\n",
    "    'Genre': 'Drama',\n",
    "    'Overview': 'Two imprisoned men bond over a number of years, finding solace and eventual redemption through acts of common decency.',\n",
    "    'Meta_score': 80.0,\n",
    "    'Director': 'Frank Darabont',\n",
    "    'Star1': 'Tim Robbins',\n",
    "    'Star2': 'Morgan Freeman',\n",
    "    'Star3': 'Bob Gunton',\n",
    "    'Star4': 'William Sadler',\n",
    "    'No_of_Votes': 2343110,\n",
    "    'Gross': '28,341,469'\n",
    "}\n",
    "\n",
    "# Prever a nota do IMDb\n",
    "predicted_rating = round(predict_imdb_rating(new_movie, model_path), 1)\n",
    "print(f'Nota prevista do IMDb: {predicted_rating}')"
   ]
  },
  {
   "cell_type": "markdown",
   "metadata": {},
   "source": [
    "**Comparação entre Nota IMDb Oficial e Previsão do Modelo de Regressão Linear**\n",
    "\n",
    "Ao comparar a nota do IMDb para o filme \"The Shawshank Redemption\" no site oficial (9.3) com a previsão feita pelo nosso modelo de regressão linear (9.1), observamos uma diferença mínima de apenas 0.2 pontos. Esta pequena variação indica que nosso modelo está bastante próximo da avaliação oficial, o que sugere que ele é capaz de capturar bem as características e fatores que influenciam as notas dos filmes no IMDb.\n",
    "Link: ![The Shawshank Redemption](https://www.imdb.com/title/tt0111161/?ref_=chttp_t_1)"
   ]
  },
  {
   "cell_type": "markdown",
   "metadata": {},
   "source": [
    "### Conclusão\n",
    "\n",
    "O desempenho do modelo, refletido na pequena diferença de 0.2 pontos entre a nota oficial e a previsão, é um indicativo positivo de sua precisão. Embora haja sempre espaço para melhorias, especialmente ao considerar possíveis ajustes nos dados de entrada ou no modelo em si, os resultados atuais são promissores e mostram que o modelo pode ser uma ferramenta útil para prever a popularidade e a recepção crítica de filmes novos."
   ]
  },
  {
   "cell_type": "markdown",
   "metadata": {},
   "source": []
  },
  {
   "cell_type": "markdown",
   "metadata": {},
   "source": []
  },
  {
   "cell_type": "markdown",
   "metadata": {},
   "source": []
  },
  {
   "cell_type": "code",
   "execution_count": 22,
   "metadata": {},
   "outputs": [],
   "source": [
    "df = pd.read_csv(file)"
   ]
  },
  {
   "cell_type": "markdown",
   "metadata": {},
   "source": [
    "## Tratamento dos dados\n",
    "**Colunas Categóricas**"
   ]
  },
  {
   "cell_type": "code",
   "execution_count": 23,
   "metadata": {},
   "outputs": [
    {
     "data": {
      "text/html": [
       "<div>\n",
       "<style scoped>\n",
       "    .dataframe tbody tr th:only-of-type {\n",
       "        vertical-align: middle;\n",
       "    }\n",
       "\n",
       "    .dataframe tbody tr th {\n",
       "        vertical-align: top;\n",
       "    }\n",
       "\n",
       "    .dataframe thead th {\n",
       "        text-align: right;\n",
       "    }\n",
       "</style>\n",
       "<table border=\"1\" class=\"dataframe\">\n",
       "  <thead>\n",
       "    <tr style=\"text-align: right;\">\n",
       "      <th></th>\n",
       "      <th>Series_Title</th>\n",
       "      <th>Released_Year</th>\n",
       "      <th>Certificate</th>\n",
       "      <th>Runtime</th>\n",
       "      <th>Genre</th>\n",
       "      <th>Overview</th>\n",
       "      <th>Director</th>\n",
       "      <th>Star1</th>\n",
       "      <th>Star2</th>\n",
       "      <th>Star3</th>\n",
       "      <th>Star4</th>\n",
       "      <th>Gross</th>\n",
       "    </tr>\n",
       "  </thead>\n",
       "  <tbody>\n",
       "    <tr>\n",
       "      <th>0</th>\n",
       "      <td>The Godfather</td>\n",
       "      <td>1972</td>\n",
       "      <td>A</td>\n",
       "      <td>175 min</td>\n",
       "      <td>Crime, Drama</td>\n",
       "      <td>An organized crime dynasty's aging patriarch t...</td>\n",
       "      <td>Francis Ford Coppola</td>\n",
       "      <td>Marlon Brando</td>\n",
       "      <td>Al Pacino</td>\n",
       "      <td>James Caan</td>\n",
       "      <td>Diane Keaton</td>\n",
       "      <td>134,966,411</td>\n",
       "    </tr>\n",
       "    <tr>\n",
       "      <th>1</th>\n",
       "      <td>The Dark Knight</td>\n",
       "      <td>2008</td>\n",
       "      <td>UA</td>\n",
       "      <td>152 min</td>\n",
       "      <td>Action, Crime, Drama</td>\n",
       "      <td>When the menace known as the Joker wreaks havo...</td>\n",
       "      <td>Christopher Nolan</td>\n",
       "      <td>Christian Bale</td>\n",
       "      <td>Heath Ledger</td>\n",
       "      <td>Aaron Eckhart</td>\n",
       "      <td>Michael Caine</td>\n",
       "      <td>534,858,444</td>\n",
       "    </tr>\n",
       "    <tr>\n",
       "      <th>2</th>\n",
       "      <td>The Godfather: Part II</td>\n",
       "      <td>1974</td>\n",
       "      <td>A</td>\n",
       "      <td>202 min</td>\n",
       "      <td>Crime, Drama</td>\n",
       "      <td>The early life and career of Vito Corleone in ...</td>\n",
       "      <td>Francis Ford Coppola</td>\n",
       "      <td>Al Pacino</td>\n",
       "      <td>Robert De Niro</td>\n",
       "      <td>Robert Duvall</td>\n",
       "      <td>Diane Keaton</td>\n",
       "      <td>57,300,000</td>\n",
       "    </tr>\n",
       "    <tr>\n",
       "      <th>3</th>\n",
       "      <td>12 Angry Men</td>\n",
       "      <td>1957</td>\n",
       "      <td>U</td>\n",
       "      <td>96 min</td>\n",
       "      <td>Crime, Drama</td>\n",
       "      <td>A jury holdout attempts to prevent a miscarria...</td>\n",
       "      <td>Sidney Lumet</td>\n",
       "      <td>Henry Fonda</td>\n",
       "      <td>Lee J. Cobb</td>\n",
       "      <td>Martin Balsam</td>\n",
       "      <td>John Fiedler</td>\n",
       "      <td>4,360,000</td>\n",
       "    </tr>\n",
       "    <tr>\n",
       "      <th>4</th>\n",
       "      <td>The Lord of the Rings: The Return of the King</td>\n",
       "      <td>2003</td>\n",
       "      <td>U</td>\n",
       "      <td>201 min</td>\n",
       "      <td>Action, Adventure, Drama</td>\n",
       "      <td>Gandalf and Aragorn lead the World of Men agai...</td>\n",
       "      <td>Peter Jackson</td>\n",
       "      <td>Elijah Wood</td>\n",
       "      <td>Viggo Mortensen</td>\n",
       "      <td>Ian McKellen</td>\n",
       "      <td>Orlando Bloom</td>\n",
       "      <td>377,845,905</td>\n",
       "    </tr>\n",
       "  </tbody>\n",
       "</table>\n",
       "</div>"
      ],
      "text/plain": [
       "                                    Series_Title Released_Year Certificate  \\\n",
       "0                                  The Godfather          1972           A   \n",
       "1                                The Dark Knight          2008          UA   \n",
       "2                         The Godfather: Part II          1974           A   \n",
       "3                                   12 Angry Men          1957           U   \n",
       "4  The Lord of the Rings: The Return of the King          2003           U   \n",
       "\n",
       "   Runtime                     Genre  \\\n",
       "0  175 min              Crime, Drama   \n",
       "1  152 min      Action, Crime, Drama   \n",
       "2  202 min              Crime, Drama   \n",
       "3   96 min              Crime, Drama   \n",
       "4  201 min  Action, Adventure, Drama   \n",
       "\n",
       "                                            Overview              Director  \\\n",
       "0  An organized crime dynasty's aging patriarch t...  Francis Ford Coppola   \n",
       "1  When the menace known as the Joker wreaks havo...     Christopher Nolan   \n",
       "2  The early life and career of Vito Corleone in ...  Francis Ford Coppola   \n",
       "3  A jury holdout attempts to prevent a miscarria...          Sidney Lumet   \n",
       "4  Gandalf and Aragorn lead the World of Men agai...         Peter Jackson   \n",
       "\n",
       "            Star1            Star2          Star3          Star4        Gross  \n",
       "0   Marlon Brando        Al Pacino     James Caan   Diane Keaton  134,966,411  \n",
       "1  Christian Bale     Heath Ledger  Aaron Eckhart  Michael Caine  534,858,444  \n",
       "2       Al Pacino   Robert De Niro  Robert Duvall   Diane Keaton   57,300,000  \n",
       "3     Henry Fonda      Lee J. Cobb  Martin Balsam   John Fiedler    4,360,000  \n",
       "4     Elijah Wood  Viggo Mortensen   Ian McKellen  Orlando Bloom  377,845,905  "
      ]
     },
     "execution_count": 23,
     "metadata": {},
     "output_type": "execute_result"
    }
   ],
   "source": [
    "df.select_dtypes(include=['object']).head()"
   ]
  },
  {
   "cell_type": "code",
   "execution_count": null,
   "metadata": {},
   "outputs": [],
   "source": [
    "Coluna Released_Year"
   ]
  },
  {
   "cell_type": "code",
   "execution_count": 26,
   "metadata": {},
   "outputs": [
    {
     "name": "stdout",
     "output_type": "stream",
     "text": [
      "Int64\n"
     ]
    }
   ],
   "source": [
    "print(df['Released_Year'].dtype)"
   ]
  },
  {
   "cell_type": "code",
   "execution_count": 25,
   "metadata": {},
   "outputs": [
    {
     "name": "stdout",
     "output_type": "stream",
     "text": [
      "Int64\n",
      "     Unnamed: 0                                   Series_Title  Released_Year  \\\n",
      "0             1                                  The Godfather           1972   \n",
      "1             2                                The Dark Knight           2008   \n",
      "2             3                         The Godfather: Part II           1974   \n",
      "3             4                                   12 Angry Men           1957   \n",
      "4             5  The Lord of the Rings: The Return of the King           2003   \n",
      "..          ...                                            ...            ...   \n",
      "994         995                         Breakfast at Tiffany's           1961   \n",
      "995         996                                          Giant           1956   \n",
      "996         997                          From Here to Eternity           1953   \n",
      "997         998                                       Lifeboat           1944   \n",
      "998         999                                   The 39 Steps           1935   \n",
      "\n",
      "    Certificate  Runtime                     Genre  IMDB_Rating  \\\n",
      "0             A  175 min              Crime, Drama          9.2   \n",
      "1            UA  152 min      Action, Crime, Drama          9.0   \n",
      "2             A  202 min              Crime, Drama          9.0   \n",
      "3             U   96 min              Crime, Drama          9.0   \n",
      "4             U  201 min  Action, Adventure, Drama          8.9   \n",
      "..          ...      ...                       ...          ...   \n",
      "994           A  115 min    Comedy, Drama, Romance          7.6   \n",
      "995           G  201 min            Drama, Western          7.6   \n",
      "996      Passed  118 min       Drama, Romance, War          7.6   \n",
      "997         NaN   97 min                Drama, War          7.6   \n",
      "998         NaN   86 min  Crime, Mystery, Thriller          7.6   \n",
      "\n",
      "                                              Overview  Meta_score  \\\n",
      "0    An organized crime dynasty's aging patriarch t...       100.0   \n",
      "1    When the menace known as the Joker wreaks havo...        84.0   \n",
      "2    The early life and career of Vito Corleone in ...        90.0   \n",
      "3    A jury holdout attempts to prevent a miscarria...        96.0   \n",
      "4    Gandalf and Aragorn lead the World of Men agai...        94.0   \n",
      "..                                                 ...         ...   \n",
      "994  A young New York socialite becomes interested ...        76.0   \n",
      "995  Sprawling epic covering the life of a Texas ca...        84.0   \n",
      "996  In Hawaii in 1941, a private is cruelly punish...        85.0   \n",
      "997  Several survivors of a torpedoed merchant ship...        78.0   \n",
      "998  A man in London tries to help a counter-espion...        93.0   \n",
      "\n",
      "                 Director              Star1              Star2  \\\n",
      "0    Francis Ford Coppola      Marlon Brando          Al Pacino   \n",
      "1       Christopher Nolan     Christian Bale       Heath Ledger   \n",
      "2    Francis Ford Coppola          Al Pacino     Robert De Niro   \n",
      "3            Sidney Lumet        Henry Fonda        Lee J. Cobb   \n",
      "4           Peter Jackson        Elijah Wood    Viggo Mortensen   \n",
      "..                    ...                ...                ...   \n",
      "994         Blake Edwards     Audrey Hepburn     George Peppard   \n",
      "995        George Stevens   Elizabeth Taylor        Rock Hudson   \n",
      "996        Fred Zinnemann     Burt Lancaster   Montgomery Clift   \n",
      "997      Alfred Hitchcock  Tallulah Bankhead        John Hodiak   \n",
      "998      Alfred Hitchcock       Robert Donat  Madeleine Carroll   \n",
      "\n",
      "              Star3           Star4  No_of_Votes        Gross  \n",
      "0        James Caan    Diane Keaton      1620367  134,966,411  \n",
      "1     Aaron Eckhart   Michael Caine      2303232  534,858,444  \n",
      "2     Robert Duvall    Diane Keaton      1129952   57,300,000  \n",
      "3     Martin Balsam    John Fiedler       689845    4,360,000  \n",
      "4      Ian McKellen   Orlando Bloom      1642758  377,845,905  \n",
      "..              ...             ...          ...          ...  \n",
      "994   Patricia Neal     Buddy Ebsen       166544          NaN  \n",
      "995      James Dean   Carroll Baker        34075          NaN  \n",
      "996    Deborah Kerr      Donna Reed        43374   30,500,000  \n",
      "997   Walter Slezak  William Bendix        26471          NaN  \n",
      "998  Lucie Mannheim  Godfrey Tearle        51853          NaN  \n",
      "\n",
      "[999 rows x 16 columns]\n"
     ]
    }
   ],
   "source": [
    "# Limpar espaços em branco e converter para tipo numérico tratando erros\n",
    "df['Released_Year'] = df['Released_Year'].str.strip()  # Remover espaços em branco\n",
    "df['Released_Year'] = pd.to_numeric(df['Released_Year'], errors='coerce')  # Converter e tratar erros\n",
    "\n",
    "# Converter para inteiro, lidando com NaN\n",
    "df['Released_Year'] = df['Released_Year'].astype('Int64')  # Usar 'Int64' para lidar com NaNs\n",
    "\n",
    "# Verificar o tipo de dado após a conversão\n",
    "print(df['Released_Year'].dtype)\n",
    "print(df)"
   ]
  },
  {
   "cell_type": "markdown",
   "metadata": {},
   "source": [
    "Coluna Runtime"
   ]
  },
  {
   "cell_type": "code",
   "execution_count": 29,
   "metadata": {},
   "outputs": [
    {
     "name": "stdout",
     "output_type": "stream",
     "text": [
      "int64\n"
     ]
    }
   ],
   "source": [
    "print(df['Runtime'].dtype)"
   ]
  },
  {
   "cell_type": "code",
   "execution_count": 28,
   "metadata": {},
   "outputs": [
    {
     "name": "stdout",
     "output_type": "stream",
     "text": [
      "int64\n",
      "     Unnamed: 0                                   Series_Title  Released_Year  \\\n",
      "0             1                                  The Godfather           1972   \n",
      "1             2                                The Dark Knight           2008   \n",
      "2             3                         The Godfather: Part II           1974   \n",
      "3             4                                   12 Angry Men           1957   \n",
      "4             5  The Lord of the Rings: The Return of the King           2003   \n",
      "..          ...                                            ...            ...   \n",
      "994         995                         Breakfast at Tiffany's           1961   \n",
      "995         996                                          Giant           1956   \n",
      "996         997                          From Here to Eternity           1953   \n",
      "997         998                                       Lifeboat           1944   \n",
      "998         999                                   The 39 Steps           1935   \n",
      "\n",
      "    Certificate  Runtime                     Genre  IMDB_Rating  \\\n",
      "0             A      175              Crime, Drama          9.2   \n",
      "1            UA      152      Action, Crime, Drama          9.0   \n",
      "2             A      202              Crime, Drama          9.0   \n",
      "3             U       96              Crime, Drama          9.0   \n",
      "4             U      201  Action, Adventure, Drama          8.9   \n",
      "..          ...      ...                       ...          ...   \n",
      "994           A      115    Comedy, Drama, Romance          7.6   \n",
      "995           G      201            Drama, Western          7.6   \n",
      "996      Passed      118       Drama, Romance, War          7.6   \n",
      "997         NaN       97                Drama, War          7.6   \n",
      "998         NaN       86  Crime, Mystery, Thriller          7.6   \n",
      "\n",
      "                                              Overview  Meta_score  \\\n",
      "0    An organized crime dynasty's aging patriarch t...       100.0   \n",
      "1    When the menace known as the Joker wreaks havo...        84.0   \n",
      "2    The early life and career of Vito Corleone in ...        90.0   \n",
      "3    A jury holdout attempts to prevent a miscarria...        96.0   \n",
      "4    Gandalf and Aragorn lead the World of Men agai...        94.0   \n",
      "..                                                 ...         ...   \n",
      "994  A young New York socialite becomes interested ...        76.0   \n",
      "995  Sprawling epic covering the life of a Texas ca...        84.0   \n",
      "996  In Hawaii in 1941, a private is cruelly punish...        85.0   \n",
      "997  Several survivors of a torpedoed merchant ship...        78.0   \n",
      "998  A man in London tries to help a counter-espion...        93.0   \n",
      "\n",
      "                 Director              Star1              Star2  \\\n",
      "0    Francis Ford Coppola      Marlon Brando          Al Pacino   \n",
      "1       Christopher Nolan     Christian Bale       Heath Ledger   \n",
      "2    Francis Ford Coppola          Al Pacino     Robert De Niro   \n",
      "3            Sidney Lumet        Henry Fonda        Lee J. Cobb   \n",
      "4           Peter Jackson        Elijah Wood    Viggo Mortensen   \n",
      "..                    ...                ...                ...   \n",
      "994         Blake Edwards     Audrey Hepburn     George Peppard   \n",
      "995        George Stevens   Elizabeth Taylor        Rock Hudson   \n",
      "996        Fred Zinnemann     Burt Lancaster   Montgomery Clift   \n",
      "997      Alfred Hitchcock  Tallulah Bankhead        John Hodiak   \n",
      "998      Alfred Hitchcock       Robert Donat  Madeleine Carroll   \n",
      "\n",
      "              Star3           Star4  No_of_Votes        Gross  \n",
      "0        James Caan    Diane Keaton      1620367  134,966,411  \n",
      "1     Aaron Eckhart   Michael Caine      2303232  534,858,444  \n",
      "2     Robert Duvall    Diane Keaton      1129952   57,300,000  \n",
      "3     Martin Balsam    John Fiedler       689845    4,360,000  \n",
      "4      Ian McKellen   Orlando Bloom      1642758  377,845,905  \n",
      "..              ...             ...          ...          ...  \n",
      "994   Patricia Neal     Buddy Ebsen       166544          NaN  \n",
      "995      James Dean   Carroll Baker        34075          NaN  \n",
      "996    Deborah Kerr      Donna Reed        43374   30,500,000  \n",
      "997   Walter Slezak  William Bendix        26471          NaN  \n",
      "998  Lucie Mannheim  Godfrey Tearle        51853          NaN  \n",
      "\n",
      "[999 rows x 16 columns]\n"
     ]
    },
    {
     "name": "stderr",
     "output_type": "stream",
     "text": [
      "<>:2: SyntaxWarning: invalid escape sequence '\\d'\n",
      "<>:2: SyntaxWarning: invalid escape sequence '\\d'\n",
      "C:\\Users\\raull\\AppData\\Local\\Temp\\ipykernel_16684\\601585238.py:2: SyntaxWarning: invalid escape sequence '\\d'\n",
      "  df['Runtime'] = df['Runtime'].str.extract('(\\d+)').astype(int)\n"
     ]
    }
   ],
   "source": [
    "# Extrair números da coluna Runtime e converter para tipo numérico\n",
    "df['Runtime'] = df['Runtime'].str.extract('(\\d+)').astype(int)\n",
    "\n",
    "# Verificar o tipo de dado após a conversão\n",
    "print(df['Runtime'].dtype)\n",
    "print(df)"
   ]
  },
  {
   "cell_type": "markdown",
   "metadata": {},
   "source": [
    "Coluna Gross"
   ]
  },
  {
   "cell_type": "code",
   "execution_count": 33,
   "metadata": {},
   "outputs": [
    {
     "name": "stdout",
     "output_type": "stream",
     "text": [
      "int64\n"
     ]
    }
   ],
   "source": [
    "print(df['Gross'].dtype)"
   ]
  },
  {
   "cell_type": "code",
   "execution_count": 32,
   "metadata": {},
   "outputs": [
    {
     "name": "stdout",
     "output_type": "stream",
     "text": [
      "int64\n",
      "     Unnamed: 0                                   Series_Title  Released_Year  \\\n",
      "0             1                                  The Godfather           1972   \n",
      "1             2                                The Dark Knight           2008   \n",
      "2             3                         The Godfather: Part II           1974   \n",
      "3             4                                   12 Angry Men           1957   \n",
      "4             5  The Lord of the Rings: The Return of the King           2003   \n",
      "..          ...                                            ...            ...   \n",
      "994         995                         Breakfast at Tiffany's           1961   \n",
      "995         996                                          Giant           1956   \n",
      "996         997                          From Here to Eternity           1953   \n",
      "997         998                                       Lifeboat           1944   \n",
      "998         999                                   The 39 Steps           1935   \n",
      "\n",
      "    Certificate  Runtime                     Genre  IMDB_Rating  \\\n",
      "0             A      175              Crime, Drama          9.2   \n",
      "1            UA      152      Action, Crime, Drama          9.0   \n",
      "2             A      202              Crime, Drama          9.0   \n",
      "3             U       96              Crime, Drama          9.0   \n",
      "4             U      201  Action, Adventure, Drama          8.9   \n",
      "..          ...      ...                       ...          ...   \n",
      "994           A      115    Comedy, Drama, Romance          7.6   \n",
      "995           G      201            Drama, Western          7.6   \n",
      "996      Passed      118       Drama, Romance, War          7.6   \n",
      "997         NaN       97                Drama, War          7.6   \n",
      "998         NaN       86  Crime, Mystery, Thriller          7.6   \n",
      "\n",
      "                                              Overview  Meta_score  \\\n",
      "0    An organized crime dynasty's aging patriarch t...       100.0   \n",
      "1    When the menace known as the Joker wreaks havo...        84.0   \n",
      "2    The early life and career of Vito Corleone in ...        90.0   \n",
      "3    A jury holdout attempts to prevent a miscarria...        96.0   \n",
      "4    Gandalf and Aragorn lead the World of Men agai...        94.0   \n",
      "..                                                 ...         ...   \n",
      "994  A young New York socialite becomes interested ...        76.0   \n",
      "995  Sprawling epic covering the life of a Texas ca...        84.0   \n",
      "996  In Hawaii in 1941, a private is cruelly punish...        85.0   \n",
      "997  Several survivors of a torpedoed merchant ship...        78.0   \n",
      "998  A man in London tries to help a counter-espion...        93.0   \n",
      "\n",
      "                 Director              Star1              Star2  \\\n",
      "0    Francis Ford Coppola      Marlon Brando          Al Pacino   \n",
      "1       Christopher Nolan     Christian Bale       Heath Ledger   \n",
      "2    Francis Ford Coppola          Al Pacino     Robert De Niro   \n",
      "3            Sidney Lumet        Henry Fonda        Lee J. Cobb   \n",
      "4           Peter Jackson        Elijah Wood    Viggo Mortensen   \n",
      "..                    ...                ...                ...   \n",
      "994         Blake Edwards     Audrey Hepburn     George Peppard   \n",
      "995        George Stevens   Elizabeth Taylor        Rock Hudson   \n",
      "996        Fred Zinnemann     Burt Lancaster   Montgomery Clift   \n",
      "997      Alfred Hitchcock  Tallulah Bankhead        John Hodiak   \n",
      "998      Alfred Hitchcock       Robert Donat  Madeleine Carroll   \n",
      "\n",
      "              Star3           Star4  No_of_Votes      Gross  \n",
      "0        James Caan    Diane Keaton      1620367  134966411  \n",
      "1     Aaron Eckhart   Michael Caine      2303232  534858444  \n",
      "2     Robert Duvall    Diane Keaton      1129952   57300000  \n",
      "3     Martin Balsam    John Fiedler       689845    4360000  \n",
      "4      Ian McKellen   Orlando Bloom      1642758  377845905  \n",
      "..              ...             ...          ...        ...  \n",
      "994   Patricia Neal     Buddy Ebsen       166544          0  \n",
      "995      James Dean   Carroll Baker        34075          0  \n",
      "996    Deborah Kerr      Donna Reed        43374   30500000  \n",
      "997   Walter Slezak  William Bendix        26471          0  \n",
      "998  Lucie Mannheim  Godfrey Tearle        51853          0  \n",
      "\n",
      "[999 rows x 16 columns]\n"
     ]
    }
   ],
   "source": [
    "# Remover vírgulas e converter para tipo numérico, tratando NaN\n",
    "df['Gross'] = df['Gross'].str.replace(',', '').fillna('0').astype(int)\n",
    "\n",
    "# Verificar o tipo de dado após a conversão\n",
    "print(df['Gross'].dtype)\n",
    "print(df)"
   ]
  },
  {
   "cell_type": "code",
   "execution_count": 34,
   "metadata": {},
   "outputs": [
    {
     "data": {
      "text/html": [
       "<div>\n",
       "<style scoped>\n",
       "    .dataframe tbody tr th:only-of-type {\n",
       "        vertical-align: middle;\n",
       "    }\n",
       "\n",
       "    .dataframe tbody tr th {\n",
       "        vertical-align: top;\n",
       "    }\n",
       "\n",
       "    .dataframe thead th {\n",
       "        text-align: right;\n",
       "    }\n",
       "</style>\n",
       "<table border=\"1\" class=\"dataframe\">\n",
       "  <thead>\n",
       "    <tr style=\"text-align: right;\">\n",
       "      <th></th>\n",
       "      <th>Series_Title</th>\n",
       "      <th>Certificate</th>\n",
       "      <th>Genre</th>\n",
       "      <th>Overview</th>\n",
       "      <th>Director</th>\n",
       "      <th>Star1</th>\n",
       "      <th>Star2</th>\n",
       "      <th>Star3</th>\n",
       "      <th>Star4</th>\n",
       "    </tr>\n",
       "  </thead>\n",
       "  <tbody>\n",
       "    <tr>\n",
       "      <th>0</th>\n",
       "      <td>The Godfather</td>\n",
       "      <td>A</td>\n",
       "      <td>Crime, Drama</td>\n",
       "      <td>An organized crime dynasty's aging patriarch t...</td>\n",
       "      <td>Francis Ford Coppola</td>\n",
       "      <td>Marlon Brando</td>\n",
       "      <td>Al Pacino</td>\n",
       "      <td>James Caan</td>\n",
       "      <td>Diane Keaton</td>\n",
       "    </tr>\n",
       "    <tr>\n",
       "      <th>1</th>\n",
       "      <td>The Dark Knight</td>\n",
       "      <td>UA</td>\n",
       "      <td>Action, Crime, Drama</td>\n",
       "      <td>When the menace known as the Joker wreaks havo...</td>\n",
       "      <td>Christopher Nolan</td>\n",
       "      <td>Christian Bale</td>\n",
       "      <td>Heath Ledger</td>\n",
       "      <td>Aaron Eckhart</td>\n",
       "      <td>Michael Caine</td>\n",
       "    </tr>\n",
       "    <tr>\n",
       "      <th>2</th>\n",
       "      <td>The Godfather: Part II</td>\n",
       "      <td>A</td>\n",
       "      <td>Crime, Drama</td>\n",
       "      <td>The early life and career of Vito Corleone in ...</td>\n",
       "      <td>Francis Ford Coppola</td>\n",
       "      <td>Al Pacino</td>\n",
       "      <td>Robert De Niro</td>\n",
       "      <td>Robert Duvall</td>\n",
       "      <td>Diane Keaton</td>\n",
       "    </tr>\n",
       "    <tr>\n",
       "      <th>3</th>\n",
       "      <td>12 Angry Men</td>\n",
       "      <td>U</td>\n",
       "      <td>Crime, Drama</td>\n",
       "      <td>A jury holdout attempts to prevent a miscarria...</td>\n",
       "      <td>Sidney Lumet</td>\n",
       "      <td>Henry Fonda</td>\n",
       "      <td>Lee J. Cobb</td>\n",
       "      <td>Martin Balsam</td>\n",
       "      <td>John Fiedler</td>\n",
       "    </tr>\n",
       "    <tr>\n",
       "      <th>4</th>\n",
       "      <td>The Lord of the Rings: The Return of the King</td>\n",
       "      <td>U</td>\n",
       "      <td>Action, Adventure, Drama</td>\n",
       "      <td>Gandalf and Aragorn lead the World of Men agai...</td>\n",
       "      <td>Peter Jackson</td>\n",
       "      <td>Elijah Wood</td>\n",
       "      <td>Viggo Mortensen</td>\n",
       "      <td>Ian McKellen</td>\n",
       "      <td>Orlando Bloom</td>\n",
       "    </tr>\n",
       "  </tbody>\n",
       "</table>\n",
       "</div>"
      ],
      "text/plain": [
       "                                    Series_Title Certificate  \\\n",
       "0                                  The Godfather           A   \n",
       "1                                The Dark Knight          UA   \n",
       "2                         The Godfather: Part II           A   \n",
       "3                                   12 Angry Men           U   \n",
       "4  The Lord of the Rings: The Return of the King           U   \n",
       "\n",
       "                      Genre  \\\n",
       "0              Crime, Drama   \n",
       "1      Action, Crime, Drama   \n",
       "2              Crime, Drama   \n",
       "3              Crime, Drama   \n",
       "4  Action, Adventure, Drama   \n",
       "\n",
       "                                            Overview              Director  \\\n",
       "0  An organized crime dynasty's aging patriarch t...  Francis Ford Coppola   \n",
       "1  When the menace known as the Joker wreaks havo...     Christopher Nolan   \n",
       "2  The early life and career of Vito Corleone in ...  Francis Ford Coppola   \n",
       "3  A jury holdout attempts to prevent a miscarria...          Sidney Lumet   \n",
       "4  Gandalf and Aragorn lead the World of Men agai...         Peter Jackson   \n",
       "\n",
       "            Star1            Star2          Star3          Star4  \n",
       "0   Marlon Brando        Al Pacino     James Caan   Diane Keaton  \n",
       "1  Christian Bale     Heath Ledger  Aaron Eckhart  Michael Caine  \n",
       "2       Al Pacino   Robert De Niro  Robert Duvall   Diane Keaton  \n",
       "3     Henry Fonda      Lee J. Cobb  Martin Balsam   John Fiedler  \n",
       "4     Elijah Wood  Viggo Mortensen   Ian McKellen  Orlando Bloom  "
      ]
     },
     "execution_count": 34,
     "metadata": {},
     "output_type": "execute_result"
    }
   ],
   "source": [
    "df.select_dtypes(include=['object']).head()"
   ]
  },
  {
   "cell_type": "code",
   "execution_count": null,
   "metadata": {},
   "outputs": [],
   "source": [
    "# Remover as colunas 'Unnamed' e 'Series_Title'\n",
    "df = df.drop(columns=['Unnamed: 0', 'Series_Title'])"
   ]
  },
  {
   "cell_type": "code",
   "execution_count": 41,
   "metadata": {},
   "outputs": [
    {
     "name": "stdout",
     "output_type": "stream",
     "text": [
      "<class 'pandas.core.frame.DataFrame'>\n",
      "RangeIndex: 999 entries, 0 to 998\n",
      "Data columns (total 14 columns):\n",
      " #   Column         Non-Null Count  Dtype  \n",
      "---  ------         --------------  -----  \n",
      " 0   Released_Year  998 non-null    Int64  \n",
      " 1   Certificate    898 non-null    object \n",
      " 2   Runtime        999 non-null    int64  \n",
      " 3   Genre          999 non-null    object \n",
      " 4   IMDB_Rating    999 non-null    float64\n",
      " 5   Overview       999 non-null    object \n",
      " 6   Meta_score     842 non-null    float64\n",
      " 7   Director       999 non-null    object \n",
      " 8   Star1          999 non-null    object \n",
      " 9   Star2          999 non-null    object \n",
      " 10  Star3          999 non-null    object \n",
      " 11  Star4          999 non-null    object \n",
      " 12  No_of_Votes    999 non-null    int64  \n",
      " 13  Gross          999 non-null    int64  \n",
      "dtypes: Int64(1), float64(2), int64(3), object(8)\n",
      "memory usage: 110.4+ KB\n"
     ]
    }
   ],
   "source": [
    "df.info()"
   ]
  },
  {
   "cell_type": "markdown",
   "metadata": {},
   "source": [
    "**Verificação de dados faltantes**"
   ]
  },
  {
   "cell_type": "code",
   "execution_count": 43,
   "metadata": {},
   "outputs": [
    {
     "name": "stdout",
     "output_type": "stream",
     "text": [
      "Released_Year     0.100100\n",
      "Certificate      10.110110\n",
      "Runtime           0.000000\n",
      "Genre             0.000000\n",
      "IMDB_Rating       0.000000\n",
      "Overview          0.000000\n",
      "Meta_score       15.715716\n",
      "Director          0.000000\n",
      "Star1             0.000000\n",
      "Star2             0.000000\n",
      "Star3             0.000000\n",
      "Star4             0.000000\n",
      "No_of_Votes       0.000000\n",
      "Gross             0.000000\n",
      "dtype: float64\n"
     ]
    }
   ],
   "source": [
    "porcentagem_nulos = df.isnull().mean() * 100\n",
    "print(porcentagem_nulos)"
   ]
  },
  {
   "cell_type": "markdown",
   "metadata": {},
   "source": [
    "Coluna Meta_score e Coluna Released_Year"
   ]
  },
  {
   "cell_type": "markdown",
   "metadata": {},
   "source": [
    "Para estas colunas usaremos o IterativeImputer, que é uma técnica de imputação de dados faltantes disponível no scikit-learn que utiliza um processo iterativo para preencher os valores ausentes. Aqui está uma visão geral do que ele faz e como funciona:\n",
    "\n",
    "- O IterativeImputer trata cada valor faltante como uma variável de saída a ser prevista.\n",
    "Utiliza um modelo de regressão (por padrão, regressão linear, mas pode ser ajustado) para prever o valor faltante em uma coluna com base nos valores não faltantes de outras colunas.\n",
    "- A imputação iterativa pode capturar relações mais complexas entre as variáveis do que métodos simples como a média, mediana ou moda, resultando em previsões mais precisas dos valores faltantes."
   ]
  },
  {
   "cell_type": "code",
   "execution_count": 44,
   "metadata": {},
   "outputs": [
    {
     "name": "stdout",
     "output_type": "stream",
     "text": [
      "Released_Year      0\n",
      "Certificate      101\n",
      "Runtime            0\n",
      "Genre              0\n",
      "IMDB_Rating        0\n",
      "Overview           0\n",
      "Meta_score         0\n",
      "Director           0\n",
      "Star1              0\n",
      "Star2              0\n",
      "Star3              0\n",
      "Star4              0\n",
      "No_of_Votes        0\n",
      "Gross              0\n",
      "dtype: int64\n"
     ]
    }
   ],
   "source": [
    "from sklearn.experimental import enable_iterative_imputer\n",
    "from sklearn.impute import IterativeImputer\n",
    "\n",
    "# Supondo que df é o seu DataFrame com valores faltantes\n",
    "\n",
    "# Selecionar colunas numéricas para a imputação\n",
    "numerical_cols = df.select_dtypes(include=['float64', 'int64']).columns\n",
    "\n",
    "# Configurar o Iterative Imputer\n",
    "imputer = IterativeImputer()\n",
    "\n",
    "# Ajustar o imputer e transformar os dados\n",
    "df[numerical_cols] = imputer.fit_transform(df[numerical_cols])\n",
    "\n",
    "# Verificar os dados após a imputação\n",
    "print(df.isnull().sum())"
   ]
  },
  {
   "cell_type": "markdown",
   "metadata": {},
   "source": [
    "Coluna Certificate"
   ]
  },
  {
   "cell_type": "markdown",
   "metadata": {},
   "source": [
    "10.11% de dados faltantes: Esta coluna é categórica e representa a classificação indicativa do filme. O preenchimento de valores faltantes pode ser feito com a moda (valor mais frequente), uma imputação baseada em algum modelo, ou até mesmo um valor específico como \"Unknown\".\n",
    "\n",
    "Usaremos abordagem de preenchimento da coluna com \"Unknown\" mantendo a consistência dos dados e facilitando a análise subsequente."
   ]
  },
  {
   "cell_type": "code",
   "execution_count": 46,
   "metadata": {},
   "outputs": [
    {
     "name": "stdout",
     "output_type": "stream",
     "text": [
      "0\n"
     ]
    }
   ],
   "source": [
    "df['Certificate'] = df['Certificate'].fillna('Unknown')\n",
    "print(df['Certificate'].isnull().sum())"
   ]
  },
  {
   "cell_type": "code",
   "execution_count": 47,
   "metadata": {},
   "outputs": [
    {
     "data": {
      "text/plain": [
       "Released_Year    False\n",
       "Certificate      False\n",
       "Runtime          False\n",
       "Genre            False\n",
       "IMDB_Rating      False\n",
       "Overview         False\n",
       "Meta_score       False\n",
       "Director         False\n",
       "Star1            False\n",
       "Star2            False\n",
       "Star3            False\n",
       "Star4            False\n",
       "No_of_Votes      False\n",
       "Gross            False\n",
       "dtype: bool"
      ]
     },
     "execution_count": 47,
     "metadata": {},
     "output_type": "execute_result"
    }
   ],
   "source": [
    "df.isnull().any()"
   ]
  },
  {
   "cell_type": "markdown",
   "metadata": {},
   "source": [
    "Coluna Overview"
   ]
  },
  {
   "cell_type": "markdown",
   "metadata": {},
   "source": [
    "Esta coluna será removida do nosso modelo devido à sua natureza textual. Como esta coluna contém um conjunto de palavras descritivas, não contribui diretamente para a análise numérica ou preditiva que estamos realizando. Portanto, optamos por excluí-la para simplificar o modelo e focar nas variáveis mais relevantes para nossa análise."
   ]
  },
  {
   "cell_type": "code",
   "execution_count": 51,
   "metadata": {},
   "outputs": [],
   "source": [
    "df = df.drop(columns=['Overview'])"
   ]
  },
  {
   "cell_type": "markdown",
   "metadata": {},
   "source": [
    "Salvar novo CSV"
   ]
  },
  {
   "cell_type": "code",
   "execution_count": 52,
   "metadata": {},
   "outputs": [],
   "source": [
    "# Obter caminhos do arquivo csv das variáveis de ambiente\n",
    "processed_path = os.getenv('PROCESSED_PATH')\n",
    "file = f'{processed_path}/imdb_processed.csv'"
   ]
  },
  {
   "cell_type": "code",
   "execution_count": 53,
   "metadata": {},
   "outputs": [],
   "source": [
    "df.to_csv(file, index=False)"
   ]
  }
 ],
 "metadata": {
  "kernelspec": {
   "display_name": ".venv",
   "language": "python",
   "name": "python3"
  },
  "language_info": {
   "codemirror_mode": {
    "name": "ipython",
    "version": 3
   },
   "file_extension": ".py",
   "mimetype": "text/x-python",
   "name": "python",
   "nbconvert_exporter": "python",
   "pygments_lexer": "ipython3",
   "version": "3.12.4"
  }
 },
 "nbformat": 4,
 "nbformat_minor": 2
}
