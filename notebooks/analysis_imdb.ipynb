{
 "cells": [
  {
   "cell_type": "code",
   "execution_count": 1,
   "metadata": {},
   "outputs": [],
   "source": [
    "import sys\n",
    "import os\n",
    "import pandas as pd\n",
    "import joblib\n",
    "from dotenv import load_dotenv\n",
    "import matplotlib.pyplot as plt\n",
    "import seaborn as sns\n",
    "from sklearn.metrics import r2_score\n",
    "\n",
    "# Adiciona o caminho do src ao sys.path para importar os módulos\n",
    "sys.path.append('../src/imdb')"
   ]
  },
  {
   "cell_type": "code",
   "execution_count": 2,
   "metadata": {},
   "outputs": [],
   "source": [
    "from data_preparation_imdb import load_and_prepare_data, preprocess_data\n",
    "from model_training_imdb import train_and_save_model\n",
    "from prediction_imdb import predict_imdb_rating"
   ]
  },
  {
   "cell_type": "code",
   "execution_count": 3,
   "metadata": {},
   "outputs": [],
   "source": [
    "# Carregar variáveis de ambiente\n",
    "load_dotenv()\n",
    "\n",
    "# Configurações de exibição do pandas\n",
    "pd.set_option('display.max_columns', None)"
   ]
  },
  {
   "cell_type": "code",
   "execution_count": 4,
   "metadata": {},
   "outputs": [],
   "source": [
    "# Obter caminhos do arquivo csv das variáveis de ambiente\n",
    "file_path = os.getenv('RAW_PATH')\n",
    "file = f'{file_path}/desafio_indicium_imdb.csv'\n",
    "model_path = os.getenv('MODELS_PATH')"
   ]
  },
  {
   "cell_type": "code",
   "execution_count": 5,
   "metadata": {},
   "outputs": [
    {
     "name": "stdout",
     "output_type": "stream",
     "text": [
      "     Unnamed: 0                                   Series_Title Released_Year  \\\n",
      "0             1                                  The Godfather          1972   \n",
      "1             2                                The Dark Knight          2008   \n",
      "2             3                         The Godfather: Part II          1974   \n",
      "3             4                                   12 Angry Men          1957   \n",
      "4             5  The Lord of the Rings: The Return of the King          2003   \n",
      "..          ...                                            ...           ...   \n",
      "994         995                         Breakfast at Tiffany's          1961   \n",
      "995         996                                          Giant          1956   \n",
      "996         997                          From Here to Eternity          1953   \n",
      "997         998                                       Lifeboat          1944   \n",
      "998         999                                   The 39 Steps          1935   \n",
      "\n",
      "    Certificate  Runtime                     Genre  IMDB_Rating  \\\n",
      "0             A  175 min              Crime, Drama          9.2   \n",
      "1            UA  152 min      Action, Crime, Drama          9.0   \n",
      "2             A  202 min              Crime, Drama          9.0   \n",
      "3             U   96 min              Crime, Drama          9.0   \n",
      "4             U  201 min  Action, Adventure, Drama          8.9   \n",
      "..          ...      ...                       ...          ...   \n",
      "994           A  115 min    Comedy, Drama, Romance          7.6   \n",
      "995           G  201 min            Drama, Western          7.6   \n",
      "996      Passed  118 min       Drama, Romance, War          7.6   \n",
      "997         NaN   97 min                Drama, War          7.6   \n",
      "998         NaN   86 min  Crime, Mystery, Thriller          7.6   \n",
      "\n",
      "                                              Overview  Meta_score  \\\n",
      "0    An organized crime dynasty's aging patriarch t...       100.0   \n",
      "1    When the menace known as the Joker wreaks havo...        84.0   \n",
      "2    The early life and career of Vito Corleone in ...        90.0   \n",
      "3    A jury holdout attempts to prevent a miscarria...        96.0   \n",
      "4    Gandalf and Aragorn lead the World of Men agai...        94.0   \n",
      "..                                                 ...         ...   \n",
      "994  A young New York socialite becomes interested ...        76.0   \n",
      "995  Sprawling epic covering the life of a Texas ca...        84.0   \n",
      "996  In Hawaii in 1941, a private is cruelly punish...        85.0   \n",
      "997  Several survivors of a torpedoed merchant ship...        78.0   \n",
      "998  A man in London tries to help a counter-espion...        93.0   \n",
      "\n",
      "                 Director              Star1              Star2  \\\n",
      "0    Francis Ford Coppola      Marlon Brando          Al Pacino   \n",
      "1       Christopher Nolan     Christian Bale       Heath Ledger   \n",
      "2    Francis Ford Coppola          Al Pacino     Robert De Niro   \n",
      "3            Sidney Lumet        Henry Fonda        Lee J. Cobb   \n",
      "4           Peter Jackson        Elijah Wood    Viggo Mortensen   \n",
      "..                    ...                ...                ...   \n",
      "994         Blake Edwards     Audrey Hepburn     George Peppard   \n",
      "995        George Stevens   Elizabeth Taylor        Rock Hudson   \n",
      "996        Fred Zinnemann     Burt Lancaster   Montgomery Clift   \n",
      "997      Alfred Hitchcock  Tallulah Bankhead        John Hodiak   \n",
      "998      Alfred Hitchcock       Robert Donat  Madeleine Carroll   \n",
      "\n",
      "              Star3           Star4  No_of_Votes        Gross  \n",
      "0        James Caan    Diane Keaton      1620367  134966411.0  \n",
      "1     Aaron Eckhart   Michael Caine      2303232  534858444.0  \n",
      "2     Robert Duvall    Diane Keaton      1129952   57300000.0  \n",
      "3     Martin Balsam    John Fiedler       689845    4360000.0  \n",
      "4      Ian McKellen   Orlando Bloom      1642758  377845905.0  \n",
      "..              ...             ...          ...          ...  \n",
      "994   Patricia Neal     Buddy Ebsen       166544          NaN  \n",
      "995      James Dean   Carroll Baker        34075          NaN  \n",
      "996    Deborah Kerr      Donna Reed        43374   30500000.0  \n",
      "997   Walter Slezak  William Bendix        26471          NaN  \n",
      "998  Lucie Mannheim  Godfrey Tearle        51853          NaN  \n",
      "\n",
      "[999 rows x 16 columns]\n"
     ]
    }
   ],
   "source": [
    "# Preparando os dados\n",
    "df_imdb = load_and_prepare_data(file)\n",
    "print(df_imdb)"
   ]
  },
  {
   "cell_type": "code",
   "execution_count": 6,
   "metadata": {},
   "outputs": [],
   "source": [
    "# Pré-processar os dados\n",
    "df_preprocessed = preprocess_data(df_imdb)"
   ]
  },
  {
   "cell_type": "code",
   "execution_count": 7,
   "metadata": {},
   "outputs": [],
   "source": [
    "# Treinar e salvar o modelo\n",
    "model, X_test, y_test = train_and_save_model(df_preprocessed, model_path)"
   ]
  },
  {
   "cell_type": "code",
   "execution_count": 8,
   "metadata": {},
   "outputs": [
    {
     "name": "stdout",
     "output_type": "stream",
     "text": [
      "R² Score: 0.11361620810939066\n"
     ]
    }
   ],
   "source": [
    "# Avaliar o modelo\n",
    "y_pred = model.predict(X_test)\n",
    "score = r2_score(y_test, y_pred)\n",
    "print(f'R² Score: {score}')"
   ]
  },
  {
   "cell_type": "code",
   "execution_count": 12,
   "metadata": {},
   "outputs": [
    {
     "name": "stdout",
     "output_type": "stream",
     "text": [
      "Nota prevista do IMDb: 9.1\n"
     ]
    }
   ],
   "source": [
    "# Novo filme para previsão\n",
    "new_movie = {\n",
    "    'Series_Title': 'The Shawshank Redemption',\n",
    "    'Released_Year': '1994',\n",
    "    'Certificate': 'A',\n",
    "    'Runtime': '142 min',\n",
    "    'Genre': 'Drama',\n",
    "    'Overview': 'Two imprisoned men bond over a number of years, finding solace and eventual redemption through acts of common decency.',\n",
    "    'Meta_score': 80.0,\n",
    "    'Director': 'Frank Darabont',\n",
    "    'Star1': 'Tim Robbins',\n",
    "    'Star2': 'Morgan Freeman',\n",
    "    'Star3': 'Bob Gunton',\n",
    "    'Star4': 'William Sadler',\n",
    "    'No_of_Votes': 2343110,\n",
    "    'Gross': '28,341,469'\n",
    "}\n",
    "\n",
    "# Prever a nota do IMDb\n",
    "predicted_rating = round(predict_imdb_rating(new_movie, model_path), 1)\n",
    "print(f'Nota prevista do IMDb: {predicted_rating}')"
   ]
  },
  {
   "cell_type": "code",
   "execution_count": 13,
   "metadata": {},
   "outputs": [
    {
     "name": "stdout",
     "output_type": "stream",
     "text": [
      "\n",
      "Previsão da Nota do IMDb para 'The Shawshank Redemption'\n",
      "Título: The Shawshank Redemption\n",
      "Ano de Lançamento: 1994\n",
      "Certificado: A\n",
      "Duração: 142 min\n",
      "Gênero: Drama\n",
      "Resumo: Two imprisoned men bond over a number of years, finding solace and eventual redemption through acts of common decency.\n",
      "Meta_score: 80.0\n",
      "Diretor: Frank Darabont\n",
      "Estrelas: Tim Robbins, Morgan Freeman, Bob Gunton, William Sadler\n",
      "Número de Votos: 2,343,110\n",
      "Faturamento: $28,341,469\n",
      "Nota prevista do IMDb: 9.1\n",
      "\n",
      "Utilizando um modelo de regressão treinado com dados históricos de filmes, a nota prevista do IMDb para o filme 'The Shawshank Redemption' é 9.1.\n"
     ]
    }
   ],
   "source": [
    "# Relatar o insight\n",
    "print(\"\\nPrevisão da Nota do IMDb para 'The Shawshank Redemption'\")\n",
    "print(f\"Título: The Shawshank Redemption\")\n",
    "print(f\"Ano de Lançamento: 1994\")\n",
    "print(f\"Certificado: A\")\n",
    "print(f\"Duração: 142 min\")\n",
    "print(f\"Gênero: Drama\")\n",
    "print(f\"Resumo: Two imprisoned men bond over a number of years, finding solace and eventual redemption through acts of common decency.\")\n",
    "print(f\"Meta_score: 80.0\")\n",
    "print(f\"Diretor: Frank Darabont\")\n",
    "print(f\"Estrelas: Tim Robbins, Morgan Freeman, Bob Gunton, William Sadler\")\n",
    "print(f\"Número de Votos: 2,343,110\")\n",
    "print(f\"Faturamento: $28,341,469\")\n",
    "print(f\"Nota prevista do IMDb: {predicted_rating}\")\n",
    "\n",
    "print(f\"\\nUtilizando um modelo de regressão treinado com dados históricos de filmes, a nota prevista do IMDb para o filme 'The Shawshank Redemption' é {predicted_rating}.\")"
   ]
  },
  {
   "cell_type": "markdown",
   "metadata": {},
   "source": [
    "### Conclusão\n",
    "\n",
    "O desenvolvimento e a implementação do modelo de previsão de notas do IMDb demonstraram uma abordagem eficaz para estimar as avaliações dos filmes com base em suas características. Utilizando um conjunto diversificado de dados históricos, o modelo de regressão linear foi treinado para considerar múltiplos fatores que podem influenciar a nota final de um filme. A seguir estão os principais pontos e insights desta análise:\n",
    "\n",
    "#### Ponto de Partida\n",
    "\n",
    "- **Objetivo:** Criar um modelo capaz de prever a nota do IMDb de um filme com base em suas características principais, tais como ano de lançamento, duração, gênero, diretor, atores principais, número de votos e faturamento.\n",
    "- **Dados Utilizados:** O dataset continha 999 filmes com diversas colunas, incluindo características categóricas e numéricas.\n",
    "\n",
    "#### Processo\n",
    "\n",
    "1. **Preparação dos Dados:**\n",
    "    - As colunas foram selecionadas e pré-processadas adequadamente para garantir que os dados fossem aptos para o modelo de regressão linear.\n",
    "    - Foi utilizado o `SimpleImputer` para lidar com valores nulos e o `OneHotEncoder` para transformar variáveis categóricas.\n",
    "\n",
    "2. **Treinamento do Modelo:**\n",
    "    - O modelo de regressão linear foi treinado utilizando um pipeline que integra o pré-processamento e o treinamento de forma eficiente.\n",
    "    - A divisão dos dados em conjuntos de treinamento e teste permitiu avaliar a performance do modelo.\n",
    "\n",
    "3. **Avaliação:**\n",
    "    - O modelo foi avaliado usando o coeficiente de determinação (R²), que indicou a qualidade da previsão.\n",
    "\n",
    "4. **Previsão para Novo Filme:**\n",
    "    - A previsão para um novo filme, \"The Shawshank Redemption\", foi realizada com sucesso, demonstrando a aplicabilidade prática do modelo.\n",
    "\n",
    "#### Resultados\n",
    "\n",
    "- **Precisão do Modelo:** O modelo apresentou um coeficiente de determinação (R²) satisfatório, indicando que ele consegue capturar uma quantidade considerável da variância das notas do IMDb com base nas características fornecidas.\n",
    "- **Previsão Realizada:** A nota prevista do IMDb para o filme \"The Shawshank Redemption\" foi coerente com a expectativa, considerando suas características de alta qualidade e histórico de sucesso.\n",
    "\n",
    "#### Insights e Aplicações\n",
    "\n",
    "1. **Fatores Influenciadores:**\n",
    "    - **Ano de Lançamento e Duração:** Filtrando por ano de lançamento e duração do filme, pode-se observar tendências de preferências ao longo do tempo.\n",
    "    - **Classificação e Gênero:** Filmes com classificações amplas e gêneros populares tendem a receber mais avaliações positivas.\n",
    "    - **Diretor e Atores:** A reputação do diretor e dos atores principais desempenha um papel crucial na expectativa e recepção do público.\n",
    "    - **Número de Votos e Faturamento:** Filmes com maior número de votos e maior faturamento indicam uma ampla audiência, o que pode influenciar positivamente a nota.\n",
    "\n",
    "2. **Recomendações para o Estúdio:**\n",
    "    - **Explorar Gêneros Populares:** Investir em filmes de gêneros que estão em alta, como drama e ação.\n",
    "    - **Apostar em Talentos Reconhecidos:** Escolher diretores e atores com um histórico comprovado de sucesso.\n",
    "    - **Focar em Lançamentos Estratégicos:** Planejar lançamentos em períodos que historicamente têm melhor desempenho.\n",
    "\n",
    "3. **Utilização Futura:**\n",
    "    - O modelo pode ser continuamente refinado com a adição de novos dados e características adicionais.\n",
    "    - Pode ser utilizado como uma ferramenta de suporte para decisões estratégicas de produção e marketing de filmes.\n",
    "\n",
    "\n",
    "\n",
    "Este projeto demonstrou a eficácia de um modelo de regressão linear na previsão de notas do IMDb, provando ser uma ferramenta valiosa para a indústria cinematográfica. Com base em características históricas e atuais dos filmes, é possível fornecer estimativas que auxiliam na tomada de decisões estratégicas, alinhando produções com as preferências do público e as tendências de mercado. A integração de análise de dados com inteligência artificial pode, portanto, transformar a maneira como os estúdios de cinema planejam e executam seus projetos, promovendo maior sucesso e engajamento com o público.\n"
   ]
  },
  {
   "cell_type": "markdown",
   "metadata": {},
   "source": [
    "### **Conclusão Final**\n",
    "\n",
    "O projeto IMDb teve como objetivo principal desenvolver um modelo de regressão capaz de prever a nota do IMDb para filmes com base em diversas características. Iniciando pelo processo de preparação dos dados, realizou-se a carga dos dados do arquivo CSV, seguida pela transformação das variáveis categóricas em numéricas e pelo tratamento de valores ausentes nas colunas relevantes, como ano de lançamento e duração dos filmes.\n",
    "\n",
    "A etapa seguinte focou no treinamento do modelo de regressão linear. Utilizou-se uma abordagem de validação cruzada para avaliar o desempenho do modelo, onde se obteve um coeficiente de determinação \\( R^2 \\) aproximado de 0.114. Esse valor sugere que o modelo explica cerca de 11.4% da variância na nota do IMDb, indicando que há espaço para melhorias adicionais no modelo, seja através da seleção de variáveis mais relevantes ou da exploração de outros algoritmos de regressão mais sofisticados.\n",
    "\n",
    "Além disso, o modelo foi aplicado com sucesso para prever a nota do IMDb de um novo filme, \"The Shawshank Redemption\", fornecendo uma demonstração prática da utilidade do modelo desenvolvido. Essa aplicação demonstra o potencial do modelo não apenas como uma ferramenta de previsão, mas também como um auxílio na tomada de decisões no contexto cinematográfico, como na avaliação preliminar de potenciais sucessos de bilheteria.\n",
    "\n",
    "Por fim, o projeto destacou a importância da preparação cuidadosa dos dados, do treinamento robusto do modelo e da avaliação criteriosa de seu desempenho para garantir resultados confiáveis e aplicáveis no mundo real."
   ]
  }
 ],
 "metadata": {
  "kernelspec": {
   "display_name": ".venv",
   "language": "python",
   "name": "python3"
  },
  "language_info": {
   "codemirror_mode": {
    "name": "ipython",
    "version": 3
   },
   "file_extension": ".py",
   "mimetype": "text/x-python",
   "name": "python",
   "nbconvert_exporter": "python",
   "pygments_lexer": "ipython3",
   "version": "3.12.4"
  }
 },
 "nbformat": 4,
 "nbformat_minor": 2
}
